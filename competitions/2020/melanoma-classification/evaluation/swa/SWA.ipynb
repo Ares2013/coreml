{
 "cells": [
  {
   "cell_type": "code",
   "execution_count": 16,
   "metadata": {},
   "outputs": [],
   "source": [
    "from os.path import join, splitext, basename\n",
    "from os import listdir\n",
    "import torch\n",
    "from torch.optim.swa_utils import AveragedModel, update_bn\n",
    "import numpy as np\n",
    "import librosa\n",
    "import torch.nn.functional as F\n",
    "from tqdm import tqdm\n",
    "from scipy.stats import mode\n",
    "from glob import glob\n",
    "import pandas as pd\n",
    "import matplotlib.pyplot as plt\n",
    "from natsort import natsorted\n",
    "from sklearn.metrics import confusion_matrix, roc_auc_score\n",
    "from coreml.utils.io import read_yml\n",
    "from coreml.config import Config\n",
    "from coreml.data.dataloader import get_dataloader\n",
    "from coreml.models import factory as model_factory"
   ]
  },
  {
   "cell_type": "code",
   "execution_count": 2,
   "metadata": {},
   "outputs": [],
   "source": [
    "config_name = 'competitions/2020/melanoma-classification/configs/effb5/best-1cycle-wd4e-1-384'"
   ]
  },
  {
   "cell_type": "code",
   "execution_count": 3,
   "metadata": {},
   "outputs": [],
   "source": [
    "whole_train_2020 = pd.read_csv('/data/siim-isic-melanoma/raw/2020/train.csv')\n",
    "whole_train_2019 = pd.read_csv('/data/siim-isic-melanoma/raw/2019/train.csv')\n",
    "test_2020 = pd.read_csv('/data/siim-isic-melanoma/raw/2020/test.csv')"
   ]
  },
  {
   "cell_type": "code",
   "execution_count": 4,
   "metadata": {},
   "outputs": [],
   "source": [
    "train = whole_train_2019[['image_name', 'target']].append(whole_train_2020[['image_name', 'target']])"
   ]
  },
  {
   "cell_type": "code",
   "execution_count": 5,
   "metadata": {},
   "outputs": [
    {
     "data": {
      "text/html": [
       "<div>\n",
       "<style scoped>\n",
       "    .dataframe tbody tr th:only-of-type {\n",
       "        vertical-align: middle;\n",
       "    }\n",
       "\n",
       "    .dataframe tbody tr th {\n",
       "        vertical-align: top;\n",
       "    }\n",
       "\n",
       "    .dataframe thead th {\n",
       "        text-align: right;\n",
       "    }\n",
       "</style>\n",
       "<table border=\"1\" class=\"dataframe\">\n",
       "  <thead>\n",
       "    <tr style=\"text-align: right;\">\n",
       "      <th></th>\n",
       "      <th>image_name</th>\n",
       "      <th>target</th>\n",
       "    </tr>\n",
       "  </thead>\n",
       "  <tbody>\n",
       "    <tr>\n",
       "      <th>0</th>\n",
       "      <td>ISIC_0000000</td>\n",
       "      <td>0</td>\n",
       "    </tr>\n",
       "    <tr>\n",
       "      <th>1</th>\n",
       "      <td>ISIC_0000001</td>\n",
       "      <td>0</td>\n",
       "    </tr>\n",
       "    <tr>\n",
       "      <th>2</th>\n",
       "      <td>ISIC_0000002</td>\n",
       "      <td>1</td>\n",
       "    </tr>\n",
       "    <tr>\n",
       "      <th>3</th>\n",
       "      <td>ISIC_0000003</td>\n",
       "      <td>0</td>\n",
       "    </tr>\n",
       "    <tr>\n",
       "      <th>4</th>\n",
       "      <td>ISIC_0000004</td>\n",
       "      <td>1</td>\n",
       "    </tr>\n",
       "  </tbody>\n",
       "</table>\n",
       "</div>"
      ],
      "text/plain": [
       "     image_name  target\n",
       "0  ISIC_0000000       0\n",
       "1  ISIC_0000001       0\n",
       "2  ISIC_0000002       1\n",
       "3  ISIC_0000003       0\n",
       "4  ISIC_0000004       1"
      ]
     },
     "execution_count": 5,
     "metadata": {},
     "output_type": "execute_result"
    }
   ],
   "source": [
    "train.head()"
   ]
  },
  {
   "cell_type": "code",
   "execution_count": 6,
   "metadata": {},
   "outputs": [
    {
     "name": "stdout",
     "output_type": "stream",
     "text": [
      "Reading data config: /data/siim-isic-melanoma/processed/versions/v3.0.0.yml\n"
     ]
    }
   ],
   "source": [
    "data_config_path = f'/data/siim-isic-melanoma/processed/versions/v3.0.0.yml'\n",
    "print(f'Reading data config: {data_config_path}')\n",
    "data_config = read_yml(data_config_path)"
   ]
  },
  {
   "cell_type": "code",
   "execution_count": 7,
   "metadata": {},
   "outputs": [],
   "source": [
    "prediction_val = pd.read_csv(join('/output', config_name, 'logs/evaluation/val.csv'))"
   ]
  },
  {
   "cell_type": "code",
   "execution_count": 8,
   "metadata": {},
   "outputs": [
    {
     "name": "stdout",
     "output_type": "stream",
     "text": [
      "Shapes:\n",
      "6536 6536\n",
      "\n",
      "Performance without using SWA\n",
      "0.9181316467934257\n"
     ]
    }
   ],
   "source": [
    "val = pd.DataFrame(data_config['val'])\n",
    "val['image_name'] = val['file'].apply(lambda x: splitext(basename(x))[0])\n",
    "val['label'] = val['label'].apply(lambda x: x['classification'])\n",
    "val = val.drop(columns=['file'])\n",
    "\n",
    "print('Shapes:')\n",
    "print(len(prediction_val), len(val))\n",
    "print()\n",
    "    \n",
    "val = pd.merge(prediction_val, val)\n",
    "    \n",
    "print('Performance without using SWA')\n",
    "val_preds = val['target'].values\n",
    "val_labels = val['label'].values\n",
    "roc = roc_auc_score(val_labels, val_preds)\n",
    "print(roc)"
   ]
  },
  {
   "cell_type": "code",
   "execution_count": 11,
   "metadata": {},
   "outputs": [],
   "source": [
    "config = Config(join('/workspace/coreml', config_name + '.yml'))"
   ]
  },
  {
   "cell_type": "code",
   "execution_count": null,
   "metadata": {},
   "outputs": [],
   "source": []
  },
  {
   "cell_type": "code",
   "execution_count": 12,
   "metadata": {},
   "outputs": [
    {
     "name": "stdout",
     "output_type": "stream",
     "text": [
      "\u001b[33m=> Loading dataset version file: [siim-isic-melanoma, v3.0.0, val]\u001b[0m\n"
     ]
    },
    {
     "name": "stderr",
     "output_type": "stream",
     "text": [
      "Loading items: 100%|██████████| 6536/6536 [00:00<00:00, 454913.06it/s]\n"
     ]
    }
   ],
   "source": [
    "val_dataloader, _ = get_dataloader(\n",
    "        config.data, 'val',\n",
    "        config.model['batch_size'],\n",
    "        num_workers=10,\n",
    "        shuffle=False,\n",
    "        drop_last=False)"
   ]
  },
  {
   "cell_type": "code",
   "execution_count": 13,
   "metadata": {},
   "outputs": [],
   "source": [
    "# set epoch\n",
    "config.model['load']['version'] = config_name\n",
    "config.model['load']['load_best'] = True"
   ]
  },
  {
   "cell_type": "code",
   "execution_count": 17,
   "metadata": {},
   "outputs": [
    {
     "name": "stderr",
     "output_type": "stream",
     "text": [
      "Downloading: \"https://github.com/rwightman/pytorch-image-models/releases/download/v0.1-weights/tf_efficientnet_b5_ra-9a3e5369.pth\" to /root/.cache/torch/hub/checkpoints/tf_efficientnet_b5_ra-9a3e5369.pth\n"
     ]
    },
    {
     "ename": "SystemExit",
     "evalue": "\u001b[31mCheckpoint file does not exist at /output/competitions/2020/melanoma-classification/configs/effb5/best-1cycle-wd4e-1-384/checkpoints/best_ckpt.pth.tar\u001b[0m",
     "output_type": "error",
     "traceback": [
      "An exception has occurred, use %tb to see the full traceback.\n",
      "\u001b[0;31mSystemExit\u001b[0m\u001b[0;31m:\u001b[0m \u001b[31mCheckpoint file does not exist at /output/competitions/2020/melanoma-classification/configs/effb5/best-1cycle-wd4e-1-384/checkpoints/best_ckpt.pth.tar\u001b[0m\n"
     ]
    },
    {
     "name": "stderr",
     "output_type": "stream",
     "text": [
      "/opt/conda/lib/python3.6/site-packages/IPython/core/interactiveshell.py:3339: UserWarning: To exit: use 'exit', 'quit', or Ctrl-D.\n",
      "  warn(\"To exit: use 'exit', 'quit', or Ctrl-D.\", stacklevel=1)\n"
     ]
    }
   ],
   "source": [
    "model = model_factory.create(config.model['name'], **{'config': config})"
   ]
  },
  {
   "cell_type": "code",
   "execution_count": null,
   "metadata": {},
   "outputs": [],
   "source": []
  }
 ],
 "metadata": {
  "kernelspec": {
   "display_name": "Python 3",
   "language": "python",
   "name": "python3"
  },
  "language_info": {
   "codemirror_mode": {
    "name": "ipython",
    "version": 3
   },
   "file_extension": ".py",
   "mimetype": "text/x-python",
   "name": "python",
   "nbconvert_exporter": "python",
   "pygments_lexer": "ipython3",
   "version": "3.6.9"
  }
 },
 "nbformat": 4,
 "nbformat_minor": 4
}
