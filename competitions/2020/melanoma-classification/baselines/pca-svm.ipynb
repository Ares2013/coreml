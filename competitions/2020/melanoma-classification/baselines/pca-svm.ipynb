{
 "cells": [
  {
   "cell_type": "code",
   "execution_count": 2,
   "metadata": {},
   "outputs": [],
   "source": [
    "import sys\n",
    "from os.path import join\n",
    "import warnings\n",
    "warnings.simplefilter('ignore')\n",
    "\n",
    "import numpy as np\n",
    "import torch\n",
    "from tqdm import tqdm\n",
    "\n",
    "from coreml.config import Config\n",
    "from coreml.data.dataloader import get_dataloader\n",
    "from coreml.utils.io import read_yml\n",
    "from coreml.decomposition import PCA\n",
    "from coreml.sklearn import SVM"
   ]
  },
  {
   "cell_type": "code",
   "execution_count": 3,
   "metadata": {},
   "outputs": [],
   "source": [
    "config = Config('competitions/2020/melanoma-classification/configs/pca-svm.yml')"
   ]
  },
  {
   "cell_type": "code",
   "execution_count": 4,
   "metadata": {},
   "outputs": [
    {
     "name": "stdout",
     "output_type": "stream",
     "text": [
      "\u001b[33m=> Loading dataset version file: [siim-isic-melanoma, v1.0-200x200, train]\u001b[0m\n"
     ]
    },
    {
     "name": "stderr",
     "output_type": "stream",
     "text": [
      "Loading items: 100%|██████████| 26377/26377 [00:00<00:00, 455349.81it/s]\n"
     ]
    }
   ],
   "source": [
    "dataloader, dataset = get_dataloader(\n",
    "        config.data, 'train',\n",
    "        config.model['batch_size'],\n",
    "        num_workers=10,\n",
    "        shuffle=False,\n",
    "        drop_last=False)"
   ]
  },
  {
   "cell_type": "code",
   "execution_count": 5,
   "metadata": {},
   "outputs": [
    {
     "name": "stderr",
     "output_type": "stream",
     "text": [
      "100%|██████████| 207/207 [00:47<00:00,  4.37it/s]\n"
     ]
    }
   ],
   "source": [
    "iterator = tqdm(dataloader)\n",
    "train_signals = []\n",
    "train_labels = []\n",
    "\n",
    "for batch in iterator:\n",
    "    train_signals.append(batch['signals'])\n",
    "    train_labels.append(batch['labels'])"
   ]
  },
  {
   "cell_type": "code",
   "execution_count": 6,
   "metadata": {},
   "outputs": [],
   "source": [
    "train_signals = torch.cat(train_signals)"
   ]
  },
  {
   "cell_type": "code",
   "execution_count": 7,
   "metadata": {},
   "outputs": [],
   "source": [
    "train_labels = torch.cat(train_labels)"
   ]
  },
  {
   "cell_type": "code",
   "execution_count": 8,
   "metadata": {},
   "outputs": [
    {
     "data": {
      "text/plain": [
       "(torch.Size([26377, 3, 200, 200]), torch.Size([26377]))"
      ]
     },
     "execution_count": 8,
     "metadata": {},
     "output_type": "execute_result"
    }
   ],
   "source": [
    "train_signals.shape, train_labels.shape"
   ]
  },
  {
   "cell_type": "code",
   "execution_count": null,
   "metadata": {},
   "outputs": [],
   "source": []
  },
  {
   "cell_type": "code",
   "execution_count": 9,
   "metadata": {},
   "outputs": [
    {
     "name": "stdout",
     "output_type": "stream",
     "text": [
      "\u001b[33m=> Loading dataset version file: [siim-isic-melanoma, v1.0-200x200, val]\u001b[0m\n"
     ]
    },
    {
     "name": "stderr",
     "output_type": "stream",
     "text": [
      "Loading items: 100%|██████████| 6749/6749 [00:00<00:00, 446664.42it/s]\n"
     ]
    }
   ],
   "source": [
    "dataloader, dataset = get_dataloader(\n",
    "        config.data, 'val',\n",
    "        config.model['batch_size'],\n",
    "        num_workers=10,\n",
    "        shuffle=False,\n",
    "        drop_last=False)"
   ]
  },
  {
   "cell_type": "code",
   "execution_count": 10,
   "metadata": {},
   "outputs": [
    {
     "name": "stderr",
     "output_type": "stream",
     "text": [
      "100%|██████████| 53/53 [00:12<00:00,  4.26it/s]\n"
     ]
    }
   ],
   "source": [
    "iterator = tqdm(dataloader)\n",
    "val_signals = []\n",
    "val_labels = []\n",
    "\n",
    "for batch in iterator:\n",
    "    val_signals.append(batch['signals'])\n",
    "    val_labels.append(batch['labels'])"
   ]
  },
  {
   "cell_type": "code",
   "execution_count": 11,
   "metadata": {},
   "outputs": [],
   "source": [
    "val_signals = torch.cat(val_signals)"
   ]
  },
  {
   "cell_type": "code",
   "execution_count": 12,
   "metadata": {},
   "outputs": [],
   "source": [
    "val_labels = torch.cat(val_labels)"
   ]
  },
  {
   "cell_type": "code",
   "execution_count": 13,
   "metadata": {},
   "outputs": [
    {
     "data": {
      "text/plain": [
       "(torch.Size([6749, 3, 200, 200]), torch.Size([6749]))"
      ]
     },
     "execution_count": 13,
     "metadata": {},
     "output_type": "execute_result"
    }
   ],
   "source": [
    "val_signals.shape, val_labels.shape"
   ]
  },
  {
   "cell_type": "code",
   "execution_count": null,
   "metadata": {},
   "outputs": [],
   "source": []
  },
  {
   "cell_type": "code",
   "execution_count": null,
   "metadata": {},
   "outputs": [],
   "source": []
  },
  {
   "cell_type": "code",
   "execution_count": 14,
   "metadata": {},
   "outputs": [
    {
     "name": "stdout",
     "output_type": "stream",
     "text": [
      "\u001b[33m=> Loading dataset version file: [siim-isic-melanoma, v1.0-200x200, test]\u001b[0m\n"
     ]
    },
    {
     "name": "stderr",
     "output_type": "stream",
     "text": [
      "Loading items: 100%|██████████| 10982/10982 [00:00<00:00, 445873.43it/s]\n"
     ]
    }
   ],
   "source": [
    "dataloader, dataset = get_dataloader(\n",
    "        config.data, 'test',\n",
    "        config.model['batch_size'],\n",
    "        num_workers=10,\n",
    "        shuffle=False,\n",
    "        drop_last=False)"
   ]
  },
  {
   "cell_type": "code",
   "execution_count": 15,
   "metadata": {},
   "outputs": [
    {
     "name": "stderr",
     "output_type": "stream",
     "text": [
      "100%|██████████| 86/86 [00:19<00:00,  4.39it/s]\n"
     ]
    }
   ],
   "source": [
    "iterator = tqdm(dataloader)\n",
    "test_signals = []\n",
    "\n",
    "for batch in iterator:\n",
    "    test_signals.append(batch['signals'])"
   ]
  },
  {
   "cell_type": "code",
   "execution_count": null,
   "metadata": {},
   "outputs": [],
   "source": [
    "test_signals = torch.cat(test_signals)"
   ]
  },
  {
   "cell_type": "code",
   "execution_count": null,
   "metadata": {},
   "outputs": [],
   "source": [
    "test_signals.shape"
   ]
  },
  {
   "cell_type": "code",
   "execution_count": null,
   "metadata": {},
   "outputs": [],
   "source": []
  },
  {
   "cell_type": "code",
   "execution_count": null,
   "metadata": {},
   "outputs": [],
   "source": [
    "train_signals = train_signals.reshape(train_signals.shape[0], -1)\n",
    "val_signals = val_signals.reshape(val_signals.shape[0], -1)\n",
    "test_signals = test_signals.reshape(test_signals.shape[0], -1)"
   ]
  },
  {
   "cell_type": "code",
   "execution_count": null,
   "metadata": {},
   "outputs": [],
   "source": [
    "all_signals = torch.cat([train_signals, val_signals, test_signals], dim=0)"
   ]
  },
  {
   "cell_type": "code",
   "execution_count": null,
   "metadata": {},
   "outputs": [],
   "source": [
    "all_signals.shape"
   ]
  },
  {
   "cell_type": "code",
   "execution_count": null,
   "metadata": {},
   "outputs": [],
   "source": []
  }
 ],
 "metadata": {
  "kernelspec": {
   "display_name": "Python 3",
   "language": "python",
   "name": "python3"
  },
  "language_info": {
   "codemirror_mode": {
    "name": "ipython",
    "version": 3
   },
   "file_extension": ".py",
   "mimetype": "text/x-python",
   "name": "python",
   "nbconvert_exporter": "python",
   "pygments_lexer": "ipython3",
   "version": "3.6.9"
  }
 },
 "nbformat": 4,
 "nbformat_minor": 4
}
